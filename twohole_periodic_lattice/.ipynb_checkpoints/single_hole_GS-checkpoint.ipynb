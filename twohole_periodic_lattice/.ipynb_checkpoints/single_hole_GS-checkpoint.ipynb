{
 "cells": [
  {
   "cell_type": "code",
   "execution_count": 1,
   "metadata": {
    "scrolled": false
   },
   "outputs": [
    {
     "name": "stdout",
     "output_type": "stream",
     "text": [
      "Cu_orbs =  ['d3z2r2', 'dx2y2', 'dxy', 'dxz', 'dyz']\n",
      "O_orbs =  ['px', 'py']\n",
      "symmetries =  ['1A1', '1A2', '3A2', '1B1', '3B1', '1E', '3E']\n",
      "E_1S =  12.66\n",
      "E_1G =  8.26\n",
      "E_1D =  7.21\n",
      "E_3P =  7.55\n",
      "E_3F =  5.3\n"
     ]
    },
    {
     "ename": "ImportError",
     "evalue": "cannot import name Parameters",
     "output_type": "error",
     "traceback": [
      "\u001b[0;31m---------------------------------------------------------------------------\u001b[0m",
      "\u001b[0;31mImportError\u001b[0m                               Traceback (most recent call last)",
      "\u001b[0;32m<ipython-input-1-fe7807b5b152>\u001b[0m in \u001b[0;36m<module>\u001b[0;34m()\u001b[0m\n\u001b[1;32m     10\u001b[0m \u001b[0;34m\u001b[0m\u001b[0m\n\u001b[1;32m     11\u001b[0m \u001b[0;32mfrom\u001b[0m \u001b[0mpylab\u001b[0m \u001b[0;32mimport\u001b[0m \u001b[0;34m*\u001b[0m\u001b[0;34m\u001b[0m\u001b[0m\n\u001b[0;32m---> 12\u001b[0;31m \u001b[0;32mfrom\u001b[0m \u001b[0mhamiltonian\u001b[0m \u001b[0;32mimport\u001b[0m \u001b[0mParameters\u001b[0m\u001b[0;34m\u001b[0m\u001b[0m\n\u001b[0m\u001b[1;32m     13\u001b[0m \u001b[0;34m\u001b[0m\u001b[0m\n\u001b[1;32m     14\u001b[0m \u001b[0mM_PI\u001b[0m \u001b[0;34m=\u001b[0m \u001b[0mmath\u001b[0m\u001b[0;34m.\u001b[0m\u001b[0mpi\u001b[0m\u001b[0;34m\u001b[0m\u001b[0m\n",
      "\u001b[0;31mImportError\u001b[0m: cannot import name Parameters"
     ]
    }
   ],
   "source": [
    "# %pylab inline\n",
    "\n",
    "import math\n",
    "import numpy as np\n",
    "import scipy.sparse as sps\n",
    "import scipy.sparse.linalg\n",
    "import sys\n",
    "import matplotlib.pyplot as plt\n",
    "sys.path.append('../../src/')\n",
    "\n",
    "from pylab import *\n",
    "from hamiltonian import Parameters\n",
    "\n",
    "M_PI = math.pi\n",
    "ed = 0\n",
    "ep = 3.5\n",
    "tpd = 1.3\n",
    "tpp = 0.6\n",
    "kx = 0\n",
    "ky = 0\n",
    "fname = 'Aw_ep'+str(ep)+'_tpd'+str(tpd)+'_tpp'+str(tpp)+'_kx'+str(kx)+'_ky'+str(ky)\n",
    "                        \n",
    "prm = Parameters(tpd,tpp,ed,ep,eta)\n",
    "\n",
    "def create_h0_matrix(prm,kx,ky):\n",
    "    # unpack parameters\n",
    "    tpd = prm.tpd\n",
    "    tpp = prm.tpp\n",
    "    ed = prm.eps_d\n",
    "    ep = prm.eps_p\n",
    "    \n",
    "    sa = sin(kx/2.0)\n",
    "    sb = sin(ky/2.0)\n",
    "\n",
    "    M = np.zeros((7,7),dtype='complex')\n",
    "    M = [[ed,            0,            0,      0,    0,   2*tpd*sa,         -2*tpd*sb],\\\n",
    "         [0,            ed,            0,      0,    0,   2*tpd/sqrt(3)*sa,  2*tpd/sqrt(3)*sb],\\\n",
    "         [0,             0,           ed,      0,    0,     0,               0], \\\n",
    "         [0,             0,            0,     ed,    0,     0,               0], \\\n",
    "         [0,             0,            0,      0,   ed,     0,               0], \\\n",
    "         [2*tpd*sa,  2*tpd/sqrt(3)*sa, 0,      0,    0,     ep,             -4*tpp*sa*sb], \\\n",
    "         [-2*tpd*sb, 2*tpd/sqrt(3)*sb, 0,      0,    0,  -4*tpp*sa*sb,       ep]] \n",
    "    return M\n",
    "\n",
    "def calc_dispersion(prm,kx,ky):\n",
    "    h0_matrix = create_h0_matrix(prm,kx,ky)\n",
    "    eig, vec = np.linalg.eig(h0_matrix)\n",
    "    return eig\n",
    "\n",
    "def calc_kspace_gf(prm,kx,ky,w):\n",
    "    diag = (w+prm.eta*(1j))*np.identity(3,dtype='complex')\n",
    "    gf = np.zeros((3,3),dtype='complex')\n",
    "    matrix = diag - create_h0_matrix(prm,kx,ky)\n",
    "    G0 = np.linalg.inv(matrix)\n",
    "    return G0\n",
    "    \n",
    "create_h0_matrix(prm,kx,ky)\n",
    "\n",
    "# below is for another purpose\n",
    "#========================================================\n",
    "A = []\n",
    "for kx in np.arange(0,M_PI,0.1):\n",
    "    for ky in np.arange(0,M_PI,0.1):\n",
    "        # dx2-y2, d3z2-r2, dxy, dxz, dyz\n",
    "        sa = sin(kx/2.0)\n",
    "        sb = sin(ky/2.0)\n",
    "        M = [[ed,            0,            0,      0,    0,   2*tpd*sa,         -2*tpd*sb],\\\n",
    "             [0,            ed,            0,      0,    0,   2*tpd/sqrt(3)*sa,  2*tpd/sqrt(3)*sb],\\\n",
    "             [0,             0,           ed,      0,    0,     0,            0], \\\n",
    "             [0,             0,            0,     ed,    0,     0,                 0], \\\n",
    "             [0,             0,            0,      0,   ed,     0,                 0], \\\n",
    "             [2*tpd*sa,  2*tpd/sqrt(3)*sa, 0,      0,    0,     ep,             -4*tpp*sa*sb], \\\n",
    "             [-2*tpd*sb, 2*tpd/sqrt(3)*sb, 0,      0,    0,  -4*tpp*sa*sb,         ep]] \n",
    "            \n",
    "        L,_ = np.linalg.eig(M)\n",
    "        A.append(min(L))\n",
    "        #print kx, ky, min(L)\n",
    "print min(A)\n",
    "#========================================================        \n",
    "\n"
   ]
  },
  {
   "cell_type": "code",
   "execution_count": null,
   "metadata": {
    "collapsed": true
   },
   "outputs": [],
   "source": []
  }
 ],
 "metadata": {
  "kernelspec": {
   "display_name": "Python 2",
   "language": "python",
   "name": "python2"
  },
  "language_info": {
   "codemirror_mode": {
    "name": "ipython",
    "version": 2
   },
   "file_extension": ".py",
   "mimetype": "text/x-python",
   "name": "python",
   "nbconvert_exporter": "python",
   "pygments_lexer": "ipython2",
   "version": "2.7.13"
  }
 },
 "nbformat": 4,
 "nbformat_minor": 1
}
