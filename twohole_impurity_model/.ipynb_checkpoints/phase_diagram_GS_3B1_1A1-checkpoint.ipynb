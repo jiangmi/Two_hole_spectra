{
 "cells": [
  {
   "cell_type": "code",
   "execution_count": 3,
   "metadata": {},
   "outputs": [
    {
     "name": "stdout",
     "output_type": "stream",
     "text": [
      "Populating the interactive namespace from numpy and matplotlib\n"
     ]
    },
    {
     "name": "stderr",
     "output_type": "stream",
     "text": [
      "/home/mijiang/anaconda2/lib/python2.7/site-packages/IPython/core/magics/pylab.py:161: UserWarning: pylab import has clobbered these variables: ['power', 'random', 'fft', 'linalg', 'info']\n",
      "`%matplotlib` prevents importing * from pylab and numpy\n",
      "  \"\\n`%matplotlib` prevents importing * from pylab and numpy\"\n"
     ]
    },
    {
     "data": {
      "image/png": "[encoded data removed]",
      "text/plain": [
       "<matplotlib.figure.Figure at 0x7facf92937d0>"
      ]
     },
     "metadata": {},
     "output_type": "display_data"
    }
   ],
   "source": [
    "%pylab inline\n",
    "\n",
    "import math\n",
    "import numpy as np\n",
    "from scipy.sparse.linalg import inv\n",
    "#from numpy.linalg import inv\n",
    "import scipy.sparse as sps\n",
    "import scipy.sparse.linalg\n",
    "import sys\n",
    "import matplotlib.pyplot as plt\n",
    "sys.path.append('../../src/')\n",
    "from pylab import *\n",
    "\n",
    "import parameters as pam\n",
    "import lattice as lat\n",
    "import variational_space as vs\n",
    "import hamiltonian as ham\n",
    "import basis_change as basis\n",
    "import lanczos\n",
    "\n",
    "ed = 0\n",
    "tpp = 0.55\n",
    "\n",
    "pds = 1.5\n",
    "pdp = 0.7\n",
    "#pds = 0.00001\n",
    "#pdp = 0.00001\n",
    "pps = 1.0\n",
    "ppp = 0.3\n",
    "\n",
    "A = 6.5\n",
    "B = 0.15\n",
    "C = 0.58\n",
    "Udd = A+4*B+3*C\n",
    "Upp = 0\n",
    "\n",
    "Norb3 = 3\n",
    "Norb7 = 7\n",
    "Mc3 = 1\n",
    "Mc7 = 32\n",
    "eta = 0.01\n",
    "sym = '1A1'\n",
    "\n",
    "titlename = sym+'_tpp'+str(tpp)+'_A'+str(A)+'_B'+str(B)+'_C'+str(C)+'_Udd'+str(Udd)+'_Upp'+str(Upp)+'_Mc'+str(Mc7)   \n",
    "\n",
    "ff = 'Norb7_critical_Delta_1A1_tpp'+str(tpp)+'_A'+str(A)+'_B'+str(B)+'_C'+str(C)+'_Upp'+str(Upp) \\\n",
    "     +'_Mc'+str(Mc7)+'_eta'+str(eta)+'.txt'\n",
    "a = loadtxt('./data_phase_diagram/'+ff,skiprows=2)\n",
    "plot(a[:,0], A-a[:,1], '-bo',label=\"$^{1}A_1$\")\n",
    "\n",
    "ff = 'Norb7_critical_Delta_3B1_tpp'+str(tpp)+'_A'+str(A)+'_B'+str(B)+'_C'+str(C)+'_Upp'+str(Upp) \\\n",
    "     +'_Mc'+str(Mc7)+'_eta'+str(eta)+'.txt'\n",
    "b = loadtxt('./data_phase_diagram/'+ff,skiprows=2)\n",
    "plot(b[:,0], A-b[:,1], '-rs',label=\"$^{3}B_1$\")\n",
    "\n",
    "ff = 'Norb7_critical_Delta_GS_tpp'+str(tpp)+'_A'+str(A)+'_B'+str(B)+'_C'+str(C)+'_Upp'+str(Upp) \\\n",
    "     +'_Mc'+str(Mc7)+'_eta'+str(eta)+'.txt'\n",
    "c = loadtxt('./data_phase_diagram/'+ff,skiprows=3)\n",
    "plot(c[:,0], A-c[:,1], '-kp', label=\"G.S.\")\n",
    "\n",
    "fill_between(a[:,0], A-c[:,1], A-a[:,1],color='b')\n",
    "fill_between(c[:,0], -4.0, A-c[:,1],color='r')\n",
    "\n",
    "title('Norb7_tpp'+str(tpp)+'_A'+str(A)+'_B'+str(B)+'_C'+str(C)+'_Mc'+str(Mc7), fontsize=8)\n",
    "xlabel('$t_{pd}$',fontsize=15)\n",
    "ylabel('$A-\\Delta$',fontsize=15)\n",
    "xlim([0,0.7])\n",
    "ylim([-4,11])\n",
    "#text(0.45, 0.1, '(a)', fontsize=16)\n",
    "#grid('on',linestyle=\"--\", linewidth=0.5, color='black', alpha=0.5)\n",
    "legend(loc='best', fontsize=9.5, framealpha=1.0, edgecolor='black')\n",
    "savefig(\"phase_diagram_GS.pdf\")"
   ]
  },
  {
   "cell_type": "code",
   "execution_count": null,
   "metadata": {
    "collapsed": true
   },
   "outputs": [],
   "source": []
  }
 ],
 "metadata": {
  "kernelspec": {
   "display_name": "Python 2",
   "language": "python",
   "name": "python2"
  },
  "language_info": {
   "codemirror_mode": {
    "name": "ipython",
    "version": 2
   },
   "file_extension": ".py",
   "mimetype": "text/x-python",
   "name": "python",
   "nbconvert_exporter": "python",
   "pygments_lexer": "ipython2",
   "version": "2.7.13"
  }
 },
 "nbformat": 4,
 "nbformat_minor": 1
}
