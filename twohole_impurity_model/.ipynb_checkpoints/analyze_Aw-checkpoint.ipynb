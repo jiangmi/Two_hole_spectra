{
 "cells": [
  {
   "cell_type": "code",
   "execution_count": 1,
   "metadata": {},
   "outputs": [
    {
     "name": "stdout",
     "output_type": "stream",
     "text": [
      "Populating the interactive namespace from numpy and matplotlib\n",
      "Cu_orbs =  ['d3z2r2', 'dx2y2', 'dxy', 'dxz', 'dyz']\n",
      "O1_orbs =  ['px']\n",
      "O2_orbs =  ['py']\n",
      "symmetries =  ['ALL']\n",
      "E_1S =  12.66\n",
      "E_1G =  8.26\n",
      "E_1D =  7.21\n",
      "E_3P =  7.55\n",
      "E_3F =  5.3\n",
      "ep= -3.72\n",
      "Aw<1.e-4 until  [-11.86]\n",
      "lowest peak at w=  [-11.85275]\n",
      "ep= -3.73\n",
      "Aw<1.e-4 until  [-11.87975]\n",
      "lowest peak at w=  [-11.87275]\n",
      "ep= -3.74\n",
      "Aw<1.e-4 until  [-11.89975]\n",
      "lowest peak at w=  [-11.8925]\n",
      "ep= -3.75\n",
      "Aw<1.e-4 until  [-11.9195]\n",
      "lowest peak at w=  [-11.9125]\n"
     ]
    },
    {
     "data": {
      "text/plain": [
       "<matplotlib.figure.Figure at 0x7fcc5389fb10>"
      ]
     },
     "metadata": {},
     "output_type": "display_data"
    }
   ],
   "source": [
    "%pylab inline\n",
    "\n",
    "import math\n",
    "import numpy as np\n",
    "from scipy.sparse.linalg import inv\n",
    "#from numpy.linalg import inv\n",
    "import scipy.sparse as sps\n",
    "import scipy.sparse.linalg\n",
    "import sys\n",
    "import matplotlib.pyplot as plt\n",
    "sys.path.append('../../src/')\n",
    "from pylab import *\n",
    "\n",
    "import parameters as pam\n",
    "import lattice as lat\n",
    "import variational_space as vs\n",
    "import hamiltonian as ham\n",
    "import basis_change as basis\n",
    "import lanczos\n",
    "\n",
    "ed = 0\n",
    "eps = np.arange(-2.0, -2.14, -0.01) #[3.5]#,3.5,4.5]\n",
    "eps = [-3.8, -3.9, -4.0]\n",
    "tpp = 0.55\n",
    "tpd = 0.7\n",
    "\n",
    "pds = 1.5\n",
    "pdp = 0.7\n",
    "#pds = 0.00001\n",
    "#pdp = 0.00001\n",
    "pps = 1.0\n",
    "ppp = 0.3\n",
    "\n",
    "A = 6.5\n",
    "B = 0.15\n",
    "C = 0.58\n",
    "Udd = A+4*B+3*C\n",
    "Upp = 0\n",
    "Norb = 7\n",
    "Mc = 32\n",
    "eta = 0.001\n",
    "symmetries = ['1A1']#,'3B1']\n",
    "\n",
    "Ms = ['-b','-r','-g','-m','-c','-k','-y','--b','--r','--g','--m','--c','--k','--y',\\\n",
    "      '-.b','-.r','-.g','-.m','-.c','-.k','-.y',':b',':r',':g',':m',':c',':k',':y']\n",
    "\n",
    "def write_wpeak(fname,ep,tpd,wpeak):\n",
    "    #\"a\" - Append - will append to the end of the file\n",
    "    #\"w\" - Write - will overwrite any existing content\n",
    "    f = open('./data_lowpeak/'+fname,'a',1) \n",
    "    f.write('{:.6e}\\t{:.6e}\\t{:.6e}\\n'.format(ep,tpd,wpeak))\n",
    "    \n",
    "def getAw_peak_pos_weight(ff,Aw):  \n",
    "    '''\n",
    "    find the position and weight of lowest peak of Aw\n",
    "    '''    \n",
    "    w_bottom = min(Aw[:,0])\n",
    "    wid = find(Aw[:,0]==w_bottom)\n",
    "    \n",
    "    # go through the regime with Aw=0 (numerically ~1.e-6)\n",
    "    while Aw[wid,1]<1.e-4:\n",
    "        wid += 1\n",
    "    print 'Aw<1.e-4 until ', Aw[wid,0]\n",
    "\n",
    "    # go up until the peak:\n",
    "    while Aw[wid+1,1]>Aw[wid,1]:\n",
    "        wid += 1\n",
    "    print 'lowest peak at w= ', Aw[wid,0]\n",
    "    write_wpeak(ff,ep,tpd,float(Aw[wid,0]))\n",
    "        \n",
    "for ep in eps:\n",
    "    print 'ep=',ep\n",
    "    Nsym = len(symmetries)\n",
    "    clf()\n",
    "    for i in range(0,Nsym):\n",
    "        sym = symmetries[i]\n",
    "        fname = 'ep'+str(ep)+'_tpd'+str(tpd)+'_tpp'+str(tpp)+'_A'+str(A)+'_B'+str(B)+'_C'+str(C) \\\n",
    "                      +'_Upp'+str(Upp)+'_Mc'+str(Mc)+'_Norb'+str(Norb)+'_eta'+str(eta)\n",
    "        ff = 'wpeak_corrected_Norb7_tpd'+str(tpd)+'_tpp'+str(tpp)+'_A'+str(A)+'_B'+str(B)+'_C'+str(C) \\\n",
    "                      +'_Upp'+str(Upp)+'_Mc'+str(Mc)+'_eta'+str(eta)+'_1A1.txt'\n",
    "\n",
    "        a = loadtxt('./data_Aw/'+fname+'_'+sym+'.txt',skiprows=0)\n",
    "        getAw_peak_pos_weight(ff,a)"
   ]
  },
  {
   "cell_type": "code",
   "execution_count": null,
   "metadata": {
    "collapsed": true
   },
   "outputs": [],
   "source": []
  }
 ],
 "metadata": {
  "kernelspec": {
   "display_name": "Python 2",
   "language": "python",
   "name": "python2"
  },
  "language_info": {
   "codemirror_mode": {
    "name": "ipython",
    "version": 2
   },
   "file_extension": ".py",
   "mimetype": "text/x-python",
   "name": "python",
   "nbconvert_exporter": "python",
   "pygments_lexer": "ipython2",
   "version": "2.7.13"
  }
 },
 "nbformat": 4,
 "nbformat_minor": 1
}
