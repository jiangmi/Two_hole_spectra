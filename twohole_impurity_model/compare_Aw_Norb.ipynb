{
 "cells": [
  {
   "cell_type": "code",
   "execution_count": 2,
   "metadata": {},
   "outputs": [
    {
     "name": "stdout",
     "output_type": "stream",
     "text": [
      "Populating the interactive namespace from numpy and matplotlib\n"
     ]
    },
    {
     "name": "stderr",
     "output_type": "stream",
     "text": [
      "/Users/mijiang/anaconda2/lib/python2.7/site-packages/IPython/core/magics/pylab.py:161: UserWarning: pylab import has clobbered these variables: ['linalg', 'random', 'power', 'info', 'fft']\n",
      "`%matplotlib` prevents importing * from pylab and numpy\n",
      "  \"\\n`%matplotlib` prevents importing * from pylab and numpy\"\n"
     ]
    },
    {
     "data": {
      "image/png": "[encoded data removed]",
      "text/plain": [
       "<matplotlib.figure.Figure at 0x10e4e1810>"
      ]
     },
     "metadata": {},
     "output_type": "display_data"
    }
   ],
   "source": [
    "# compare the Aw (1A1 sym) for 3-, 7-orbital models\n",
    "\n",
    "%pylab inline\n",
    "\n",
    "import math\n",
    "import numpy as np\n",
    "from scipy.sparse.linalg import inv\n",
    "#from numpy.linalg import inv\n",
    "import scipy.sparse as sps\n",
    "import scipy.sparse.linalg\n",
    "import sys\n",
    "import matplotlib.pyplot as plt\n",
    "sys.path.append('../../src/')\n",
    "from pylab import *\n",
    "\n",
    "import parameters as pam\n",
    "import lattice as lat\n",
    "import variational_space as vs\n",
    "import hamiltonian as ham\n",
    "import basis_change as basis\n",
    "import lanczos\n",
    "\n",
    "ed = 0\n",
    "ep = 3.5\n",
    "\n",
    "tpd = 1.3\n",
    "tpp = 0.6\n",
    "\n",
    "pds = 1.5\n",
    "pdp = 0.7\n",
    "#pds = 0.00001\n",
    "#pdp = 0.00001\n",
    "pps = 1.0\n",
    "ppp = 0.3\n",
    "\n",
    "A = 6.5\n",
    "B = 0.15\n",
    "C = 0.58\n",
    "Udd = A+4*B+3*C\n",
    "Upp = 0\n",
    "\n",
    "Mc3 = 16\n",
    "Mc7 = 16\n",
    "\n",
    "fNorb3 = 'ep'+str(ep)+'_tpd'+str(tpd)+'_tpp'+str(tpp)+ \\\n",
    "            '_Udd'+str(Udd)+'_Upp'+str(Upp)+'_Mc'+str(Mc3)+'_Norb'+str(3)\n",
    "fNorb7 = 'ep'+str(ep)+'_tpd'+str(tpd)+'_tpp'+str(tpp)+ \\\n",
    "            '_A'+str(A)+'_B'+str(B)+'_C'+str(C)+'_Upp'+str(Upp)+'_Mc'+str(Mc7)+'_Norb'+str(7)\n",
    "titlename = 'ep'+str(ep)+'_tpd'+str(tpd)+'_tpp'+str(tpp)+ \\\n",
    "            '_A'+str(A)+'_B'+str(B)+'_C'+str(C)+'_Udd'+str(Udd)+'_Upp'+str(Upp)      \n",
    "    \n",
    "##########################################################################\n",
    "# compare w of lowest peak\n",
    "##########################################################################\n",
    "Ms = ['-b','-r','-g','-m','-c','-k','-y','--b','--r','--g','--m','--c','--k','--y']\n",
    "\n",
    "def plot_atomic_multiplet_peaks(maxval):\n",
    "    yy = [0,maxval]\n",
    "    xx = [pam.E_1S,pam.E_1S]\n",
    "    plt.plot(xx, yy,'--k', linewidth=0.5)\n",
    "    text(pam.E_1S-1, 2.0, '$E_{1S}$', fontsize=8)\n",
    "    xx = [pam.E_1G,pam.E_1G]\n",
    "    plt.plot(xx, yy,'--k', linewidth=0.5)\n",
    "    text(pam.E_1G-1, 1.9, '$E_{1G}$', fontsize=8)\n",
    "    xx = [pam.E_1D,pam.E_1D]\n",
    "    plt.plot(xx, yy,'--k', linewidth=0.5)\n",
    "    text(pam.E_1D-1, 1.9, '$E_{1D}$', fontsize=8)\n",
    "    xx = [pam.E_3P,pam.E_3P]\n",
    "    plt.plot(xx, yy,'--k', linewidth=0.5)\n",
    "    text(pam.E_3P-1, 2.0, '$E_{3P}$', fontsize=8)\n",
    "    xx = [pam.E_3F,pam.E_3F]\n",
    "    plt.plot(xx, yy,'--k', linewidth=0.5)\n",
    "    text(pam.E_3F-1, 2.0, '$E_{3F}$', fontsize=8)\n",
    "    \n",
    "Nsym = len(pam.symmetries)\n",
    "for i in range(0,Nsym):\n",
    "    sym = pam.symmetries[i]\n",
    "            \n",
    "    #subplot(Nsym,1,i+1)\n",
    "    a = loadtxt('./data_Aw/'+fNorb7+'_'+sym+'.txt',skiprows=1)\n",
    "    plot(a[:,0], a[:,1], '-k', linewidth=1, label=sym)\n",
    "    \n",
    "    if sym=='1A1':\n",
    "        # plot N=3 result for comparison\n",
    "        a = loadtxt('./data_Aw/'+fNorb3+'.txt',skiprows=1)\n",
    "        plot(a[:,0], a[:,1], '--r', linewidth=1, label='N=3')\n",
    "\n",
    "    maxval = max(a[:,1])\n",
    "    plot_atomic_multiplet_peaks(maxval)\n",
    "            \n",
    "    if i==0:\n",
    "        title(titlename, fontsize=8)\n",
    "    if i==Nsym-1:\n",
    "        xlabel('$\\omega$',fontsize=15)\n",
    "\n",
    "    #xlim([-5,20])\n",
    "    #xlim([-7.5,13])\n",
    "    #ylim([0,0.5])\n",
    "    #ylim([0,maxval])\n",
    "    plt.yticks(fontsize=8)\n",
    "    #ylabel('$A(\\omega)$',fontsize=17)\n",
    "    #text(0.45, 0.1, '(a)', fontsize=16)\n",
    "    #grid('on',linestyle=\"--\", linewidth=0.5, color='black', alpha=0.5)\n",
    "    legend(loc='best', fontsize=7, framealpha=1.0, edgecolor='black') \n",
    "savefig(\"compare_Aw_Norb_\"+titlename+\".pdf\")"
   ]
  },
  {
   "cell_type": "code",
   "execution_count": null,
   "metadata": {
    "collapsed": true
   },
   "outputs": [],
   "source": []
  }
 ],
 "metadata": {
  "kernelspec": {
   "display_name": "Python 2",
   "language": "python",
   "name": "python2"
  },
  "language_info": {
   "codemirror_mode": {
    "name": "ipython",
    "version": 2
   },
   "file_extension": ".py",
   "mimetype": "text/x-python",
   "name": "python",
   "nbconvert_exporter": "python",
   "pygments_lexer": "ipython2",
   "version": "2.7.14"
  }
 },
 "nbformat": 4,
 "nbformat_minor": 1
}
